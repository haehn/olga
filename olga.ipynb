{
 "cells": [
  {
   "cell_type": "code",
   "execution_count": 1,
   "id": "394f7720",
   "metadata": {},
   "outputs": [
    {
     "name": "stdout",
     "output_type": "stream",
     "text": [
      "Populating the interactive namespace from numpy and matplotlib\n"
     ]
    }
   ],
   "source": [
    "%pylab inline"
   ]
  },
  {
   "cell_type": "code",
   "execution_count": 2,
   "id": "3ab78445",
   "metadata": {},
   "outputs": [],
   "source": [
    "with open('cycle20.out', 'r') as f:\n",
    "    data = f.readlines()"
   ]
  },
  {
   "cell_type": "code",
   "execution_count": 3,
   "id": "63995dee",
   "metadata": {},
   "outputs": [],
   "source": [
    "DIMS = (65,65,65)\n",
    "arr = np.zeros(DIMS, dtype=np.uint8)"
   ]
  },
  {
   "cell_type": "code",
   "execution_count": 4,
   "id": "c7ba5200",
   "metadata": {},
   "outputs": [],
   "source": [
    "for d in data:\n",
    "    x,y,z = (d.replace('\\n','')).split(' ')\n",
    "    arr[int(z),int(y),int(x)] = 255"
   ]
  },
  {
   "cell_type": "code",
   "execution_count": 5,
   "id": "cf28b30d",
   "metadata": {},
   "outputs": [
    {
     "data": {
      "text/plain": [
       "<matplotlib.image.AxesImage at 0x7f693bc8a8e0>"
      ]
     },
     "execution_count": 5,
     "metadata": {},
     "output_type": "execute_result"
    },
    {
     "data": {
      "image/png": "[encoded data removed]",
      "text/plain": [
       "<Figure size 432x288 with 1 Axes>"
      ]
     },
     "metadata": {
      "needs_background": "light"
     },
     "output_type": "display_data"
    }
   ],
   "source": [
    "imshow( arr[DIMS[0]//2] )"
   ]
  },
  {
   "cell_type": "code",
   "execution_count": 6,
   "id": "bb827b4c",
   "metadata": {},
   "outputs": [],
   "source": [
    "import nibabel"
   ]
  },
  {
   "cell_type": "code",
   "execution_count": 7,
   "id": "70dd5248",
   "metadata": {},
   "outputs": [],
   "source": [
    "vol = nibabel.Nifti1Image(arr, np.eye(4))\n",
    "nibabel.save(vol, 'olga.nii')"
   ]
  },
  {
   "cell_type": "code",
   "execution_count": null,
   "id": "cd03c5a9",
   "metadata": {},
   "outputs": [],
   "source": []
  }
 ],
 "metadata": {
  "kernelspec": {
   "display_name": "Python 3 (ipykernel)",
   "language": "python",
   "name": "python3"
  },
  "language_info": {
   "codemirror_mode": {
    "name": "ipython",
    "version": 3
   },
   "file_extension": ".py",
   "mimetype": "text/x-python",
   "name": "python",
   "nbconvert_exporter": "python",
   "pygments_lexer": "ipython3",
   "version": "3.8.3"
  }
 },
 "nbformat": 4,
 "nbformat_minor": 5
}
